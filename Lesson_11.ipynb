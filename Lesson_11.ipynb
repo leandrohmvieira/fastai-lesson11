{
  "nbformat": 4,
  "nbformat_minor": 0,
  "metadata": {
    "colab": {
      "name": "Lesson 11.ipynb",
      "version": "0.3.2",
      "provenance": [],
      "collapsed_sections": [],
      "include_colab_link": true
    },
    "kernelspec": {
      "name": "python3",
      "display_name": "Python 3"
    }
  },
  "cells": [
    {
      "cell_type": "markdown",
      "metadata": {
        "id": "view-in-github",
        "colab_type": "text"
      },
      "source": [
        "[View in Colaboratory](https://colab.research.google.com/github/leandrohmvieira/fastai-lesson11/blob/master/Lesson_11.ipynb)"
      ]
    },
    {
      "metadata": {
        "id": "rEj3xt7RYMN_",
        "colab_type": "text"
      },
      "cell_type": "markdown",
      "source": [
        "# Caderno de apoio para o vídeo 11 do curso de Machine Learning da Fast.ai - NLP"
      ]
    },
    {
      "metadata": {
        "id": "HcawUENsvwkG",
        "colab_type": "text"
      },
      "cell_type": "markdown",
      "source": [
        "[Video completo da lição 11](https://youtu.be/XJ_waZlJU8g)"
      ]
    },
    {
      "metadata": {
        "id": "EvSbR9URveDr",
        "colab_type": "code",
        "colab": {}
      },
      "cell_type": "code",
      "source": [
        "# This Python 3 environment comes with many helpful analytics libraries installed\n",
        "# It is defined by the kaggle/python docker image: https://github.com/kaggle/docker-python\n",
        "# For example, here's several helpful packages to load in \n",
        "\n",
        "import numpy as np # linear algebra\n",
        "import pandas as pd # data processing, CSV file I/O (e.g. pd.read_csv)\n",
        "\n",
        "# Input data files are available in the \"../input/\" directory.\n",
        "# For example, running this (by clicking run or pressing Shift+Enter) will list the files in the input directory\n",
        "\n",
        "import os\n",
        "print(os.listdir(\"../input\"))\n",
        "#Editar entrada de dados\n",
        "\n",
        "# Any results you write to the current directory are saved as output."
      ],
      "execution_count": 0,
      "outputs": []
    },
    {
      "metadata": {
        "id": "Jun9WSwKv6bd",
        "colab_type": "code",
        "colab": {}
      },
      "cell_type": "code",
      "source": [
        ""
      ],
      "execution_count": 0,
      "outputs": []
    }
  ]
}